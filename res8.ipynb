{
 "cells": [
  {
   "cell_type": "markdown",
   "id": "1011e757",
   "metadata": {},
   "source": [
    "## Residual Network "
   ]
  },
  {
   "cell_type": "markdown",
   "id": "2e047d1e",
   "metadata": {},
   "source": [
    "**Summary:** \n",
    "\n",
    "The purpose of this notebook is to  experiment with the ResNet architecture for specifically key-word spotting. The model applied is called the `res8-narrow`. This is model comes from a reduced base model, `resnet15`, where the authors proposed to reduce the number of residual blocks from 6 to 3 to allow a smaller footprint model that has a reduced network depth. Additionally, the authors compacted model includes a 4x3 average-pooling layer after the first convolution layer to reduce the size of the time and frequency dimensions by a factor of four and three. Lastly they decided to omit dilated convolutions sinces the average-pooling layer had reduced the input dimension.\n",
    "Both models come from \"Deep Residual Learning for Small-Footprint Keyword Spotting\" by Raphael Tang and Jimmy Lin [1]."
   ]
  },
  {
   "cell_type": "code",
   "execution_count": 1,
   "id": "7562eab1",
   "metadata": {},
   "outputs": [
    {
     "name": "stdout",
     "output_type": "stream",
     "text": [
      "Defaulting to user installation because normal site-packages is not writeable\n",
      "Requirement already satisfied: visualkeras in /home/bukowskin/.local/lib/python3.10/site-packages (0.1.4)\n",
      "Requirement already satisfied: pillow>=6.2.0 in /home/bukowskin/.local/lib/python3.10/site-packages (from visualkeras) (9.0.1)\n",
      "Requirement already satisfied: numpy>=1.18.1 in /usr/local/lib/python3.10/dist-packages (from visualkeras) (1.24.4)\n",
      "Requirement already satisfied: aggdraw>=1.3.11 in /home/bukowskin/.local/lib/python3.10/site-packages (from visualkeras) (1.3.19)\n",
      "Note: you may need to restart the kernel to use updated packages.\n"
     ]
    }
   ],
   "source": [
    "pip install visualkeras"
   ]
  },
  {
   "cell_type": "markdown",
   "id": "5edba98f",
   "metadata": {},
   "source": [
    "### Dependencies"
   ]
  },
  {
   "cell_type": "code",
   "execution_count": 2,
   "id": "7695839a",
   "metadata": {},
   "outputs": [
    {
     "name": "stderr",
     "output_type": "stream",
     "text": [
      "2024-12-17 10:15:24.113010: I tensorflow/core/util/port.cc:113] oneDNN custom operations are on. You may see slightly different numerical results due to floating-point round-off errors from different computation orders. To turn them off, set the environment variable `TF_ENABLE_ONEDNN_OPTS=0`.\n",
      "2024-12-17 10:15:24.859149: E external/local_xla/xla/stream_executor/cuda/cuda_dnn.cc:9373] Unable to register cuDNN factory: Attempting to register factory for plugin cuDNN when one has already been registered\n",
      "2024-12-17 10:15:24.861054: E external/local_xla/xla/stream_executor/cuda/cuda_fft.cc:607] Unable to register cuFFT factory: Attempting to register factory for plugin cuFFT when one has already been registered\n",
      "2024-12-17 10:15:25.049869: E external/local_xla/xla/stream_executor/cuda/cuda_blas.cc:1534] Unable to register cuBLAS factory: Attempting to register factory for plugin cuBLAS when one has already been registered\n",
      "2024-12-17 10:15:25.361739: I tensorflow/core/platform/cpu_feature_guard.cc:183] This TensorFlow binary is optimized to use available CPU instructions in performance-critical operations.\n",
      "To enable the following instructions: SSE3 SSE4.1 SSE4.2 AVX, in other operations, rebuild TensorFlow with the appropriate compiler flags.\n",
      "/home/bukowskin/.local/lib/python3.10/site-packages/scipy/__init__.py:146: UserWarning: A NumPy version >=1.16.5 and <1.23.0 is required for this version of SciPy (detected version 1.24.4\n",
      "  warnings.warn(f\"A NumPy version >={np_minversion} and <{np_maxversion}\"\n"
     ]
    }
   ],
   "source": [
    "import os\n",
    "from tqdm import tqdm\n",
    "import sys\n",
    "import pickle\n",
    "\n",
    "import tensorflow as tf\n",
    "from tensorflow.keras import layers, models\n",
    "from tensorflow.keras import callbacks\n",
    "import pandas as pd\n",
    "import numpy as np\n",
    "from scipy.io import wavfile\n",
    "\n",
    "from sklearn.preprocessing import LabelEncoder\n",
    "from tensorflow.keras.utils import to_categorical\n",
    "from sklearn.model_selection import train_test_split\n",
    "\n",
    "import warnings\n",
    "from scipy.io.wavfile import WavFileWarning\n",
    "from sklearn.metrics import accuracy_score\n",
    "import visualkeras\n",
    "from visualkeras import SpacingDummyLayer\n",
    "\n",
    "warnings.simplefilter(\"ignore\", WavFileWarning)\n",
    "# conversion causes lots of pink warning errors\n",
    "os.environ['TF_CPP_MIN_LOG_LEVEL'] = '0'  # '0' = all logs, '1' = info, '2' = warnings, '3' = errors only\n",
    "tf.get_logger().setLevel('ERROR')\n",
    "\n",
    "# dependencies for compute_multiclass_metrics\n",
    "import numpy as np\n",
    "import matplotlib.pyplot as plt\n",
    "from sklearn.metrics import roc_curve, auc, classification_report, precision_recall_fscore_support, roc_auc_score\n",
    "\n",
    "from sklearn.preprocessing import label_binarize\n",
    "from sklearn.metrics import balanced_accuracy_score"
   ]
  },
  {
   "cell_type": "markdown",
   "id": "7796caeb",
   "metadata": {},
   "source": [
    "## Path Variables"
   ]
  },
  {
   "cell_type": "code",
   "execution_count": 3,
   "id": "9d533b10",
   "metadata": {},
   "outputs": [],
   "source": [
    "random_state = 42\n",
    "n_mel = 40"
   ]
  },
  {
   "cell_type": "code",
   "execution_count": 4,
   "id": "5a8bfb00",
   "metadata": {},
   "outputs": [],
   "source": [
    "data_path = f'/home/bukowskin/CSC_7901_ML_Capstone/data/data_split_random_state_{random_state}/number_mel_filters_{n_mel}'\n",
    "\n",
    "mfe_data_path = f'{data_path}/mfe_data_split'\n",
    "mfcc_data_path = f'{data_path}/mfcc_data_split'\n",
    "\n",
    "save_model_path = f'/home/bukowskin/CSC_7901_ML_Capstone/models'"
   ]
  },
  {
   "cell_type": "markdown",
   "id": "bf75e917",
   "metadata": {},
   "source": [
    "## Function"
   ]
  },
  {
   "cell_type": "code",
   "execution_count": 5,
   "id": "dc6c85b8",
   "metadata": {},
   "outputs": [],
   "source": [
    "def accuarcy_after_quan(model_path, test_data, y_true, feat_type, trial):\n",
    "    \"\"\"\n",
    "    Function used to check model accuracy after TensorFlow Lite conversion with quanitization applied. Stated\n",
    "    there can be a possible accuracy change. \n",
    "        Args:\n",
    "            model_path(str): path to saved model\n",
    "            test_data (np.array): testing data\n",
    "            y_true (np.array): true labels for testing data\n",
    "        Returns:\n",
    "            None\n",
    "    \"\"\"\n",
    "\n",
    "    # load TensorFlow Lite model\n",
    "    interpreter = tf.lite.Interpreter(model_path=model_path)\n",
    "    interpreter.allocate_tensors()  \n",
    "\n",
    "    # get input and output tensor details\n",
    "    input_details = interpreter.get_input_details()\n",
    "    output_details = interpreter.get_output_details()\n",
    "\n",
    "    # initialize an empty list for storing predictions\n",
    "    y_pred_probs = []\n",
    "\n",
    "    # setting batch size for prediction \n",
    "    batch_size = 64\n",
    "    num_batches = len(test_data) // batch_size\n",
    "\n",
    "    # process sample by sample \n",
    "    for i in range(test_data.shape[0]):\n",
    "        sample_data = test_data[i:i+1]  # select one sample, shape is (1, height, width, channels)\n",
    "\n",
    "        # making sure data is in the correct format (float32)\n",
    "        sample_data = sample_data.astype(np.float32)\n",
    "\n",
    "        # setting input tensor for the current sample\n",
    "        interpreter.set_tensor(input_details[0]['index'], sample_data)\n",
    "\n",
    "        # running inference\n",
    "        interpreter.invoke()\n",
    "\n",
    "        # getting output tensor (the predictions)\n",
    "        output_data = interpreter.get_tensor(output_details[0]['index'])\n",
    "\n",
    "        # appending predictions to the list\n",
    "        y_pred_probs.append(output_data)\n",
    "\n",
    "    # combining predictions from all samples into a single NumPy array\n",
    "    y_pred_probs = np.vstack(y_pred_probs)\n",
    "    y_pred = np.argmax(y_pred_probs, axis=1) \n",
    "\n",
    "    # accuracy\n",
    "    accuracy = accuracy_score(y_true, y_pred)\n",
    "    if trial:\n",
    "        return accuracy\n",
    "    \n",
    "    if feat_type == 'mfe':\n",
    "        print(f'MFE Feature Accuracy: {accuracy * 100:.2f}%')\n",
    "    elif feat_type == 'mfcc':\n",
    "        print(f'MFCC Feature Accuracy: {accuracy * 100:.2f}%')"
   ]
  },
  {
   "cell_type": "code",
   "execution_count": 6,
   "id": "9dada38b",
   "metadata": {},
   "outputs": [],
   "source": [
    "def compute_multiclass_metrics(y_true, y_pred_probs, label_mapping):\n",
    "    \"\"\"\n",
    "    Function to compute and plot One-vs-Rest ROC curves and calculate weighted averages for metrics.\n",
    "    \n",
    "    Args:\n",
    "        y_true: Array of true labels (integer-encoded).\n",
    "        y_pred_probs: Array of predicted probabilities for each class.\n",
    "        label_mapping: Dictionary mapping class indices to human-readable names.\n",
    "    Returns:\n",
    "        None\n",
    "    \"\"\"\n",
    "    n_classes = len(label_mapping) \n",
    "    y_true_bin = label_binarize(y_true, classes=list(label_mapping.keys())) \n",
    "\n",
    "    fpr = {}\n",
    "    tpr = {}\n",
    "    roc_auc = {}\n",
    "    \n",
    "    for i in range(n_classes):\n",
    "        fpr[i], tpr[i], _ = roc_curve(y_true_bin[:, i], y_pred_probs[:, i])\n",
    "        roc_auc[i] = auc(fpr[i], tpr[i])\n",
    "    \n",
    "    # plotting ROC\n",
    "    plt.figure(figsize=(10, 8))\n",
    "    for i in range(n_classes):\n",
    "        plt.plot(\n",
    "            fpr[i], tpr[i], lw=2,\n",
    "            label=f'Class {label_mapping[i]} (AUC = {roc_auc[i]:.2f})'\n",
    "        )\n",
    "    \n",
    "    # plotting random guess line \n",
    "    plt.plot([0, 1], [0, 1], color='grey', lw=2, linestyle='--')\n",
    "    plt.xlim([0.0, 1.0])\n",
    "    plt.ylim([0.0, 1.05])\n",
    "    plt.xlabel('False Positive Rate')\n",
    "    plt.ylabel('True Positive Rate')\n",
    "    plt.title('Multiclass ROC Curve (One-vs-Rest)')\n",
    "    plt.legend(loc=\"lower right\")\n",
    "    plt.show()\n",
    "\n",
    "    # weighted avg metrics\n",
    "    y_pred = np.argmax(y_pred_probs, axis=1)\n",
    "    precision, recall, f1_score, _ = precision_recall_fscore_support(\n",
    "        y_true, y_pred, average='weighted'\n",
    "    )\n",
    "    print(f\"Weighted Average Precision: {precision:.2f}\")\n",
    "    print(f\"Weighted Average Recall: {recall:.2f}\")\n",
    "    print(f\"Weighted Average F1-Score: {f1_score:.2f}\")\n",
    "\n",
    "    # micro-avg AUC\n",
    "    micro_auc = roc_auc_score(y_true_bin, y_pred_probs, average='micro')\n",
    "    print(f\"Micro-Average AUC: {micro_auc:.2f}\")\n",
    "\n",
    "    # report\n",
    "    class_report = classification_report(\n",
    "        y_true, y_pred, target_names=[f\"Class {label_mapping[i]}\" for i in range(n_classes)]\n",
    "    )\n",
    "    print(\"\\nClassification Report:\\n\", class_report)\n"
   ]
  },
  {
   "cell_type": "markdown",
   "id": "c803aa78",
   "metadata": {},
   "source": [
    "## Data"
   ]
  },
  {
   "cell_type": "markdown",
   "id": "44ebe725",
   "metadata": {},
   "source": [
    "### Load MFE Data"
   ]
  },
  {
   "cell_type": "code",
   "execution_count": 7,
   "id": "e2e06b8a",
   "metadata": {},
   "outputs": [],
   "source": [
    "with open(f'{mfe_data_path}/train_data.pkl', 'rb') as f:\n",
    "    mfe_train = pickle.load(f)\n",
    "    \n",
    "with open(f'{mfe_data_path}/test_data.pkl', 'rb') as f:\n",
    "    mfe_test = pickle.load(f)"
   ]
  },
  {
   "cell_type": "code",
   "execution_count": 8,
   "id": "3995b852",
   "metadata": {},
   "outputs": [],
   "source": [
    "# train \n",
    "train_mfe_feat = mfe_train['features']\n",
    "y_train = mfe_train['labels']\n",
    "\n",
    "# test \n",
    "test_mfe_feat = mfe_test['features']\n",
    "y_test = mfe_test['labels']\n",
    "\n",
    "# height and width\n",
    "mfe_height = mfe_train['mfe_height']\n",
    "mfe_width = mfe_train['mfe_width']"
   ]
  },
  {
   "cell_type": "markdown",
   "id": "d5e685ac",
   "metadata": {},
   "source": [
    "### Load MFCC  Data"
   ]
  },
  {
   "cell_type": "code",
   "execution_count": 9,
   "id": "82059915",
   "metadata": {},
   "outputs": [],
   "source": [
    "with open(f'{mfcc_data_path}/train_data.pkl', 'rb') as f:\n",
    "    mfcc_train = pickle.load(f)\n",
    "    \n",
    "with open(f'{mfcc_data_path}/test_data.pkl', 'rb') as f:\n",
    "    mfcc_test = pickle.load(f)"
   ]
  },
  {
   "cell_type": "code",
   "execution_count": 10,
   "id": "925f0cac",
   "metadata": {},
   "outputs": [],
   "source": [
    "# train \n",
    "train_mfcc_feat = mfcc_train['features']\n",
    "\n",
    "# test \n",
    "test_mfcc_feat = mfcc_test['features']\n",
    "\n",
    "# height and width\n",
    "mfcc_height = mfcc_train['mfe_height']\n",
    "mfcc_width = mfcc_train['mfe_width']"
   ]
  },
  {
   "cell_type": "markdown",
   "id": "8d9adc54",
   "metadata": {},
   "source": [
    "### Prepare Data\n",
    "\n",
    "Taking the computed height and width and reshaping features for model input"
   ]
  },
  {
   "cell_type": "markdown",
   "id": "5dbe4ce7",
   "metadata": {},
   "source": [
    "### MFE Features"
   ]
  },
  {
   "cell_type": "code",
   "execution_count": 11,
   "id": "047f514d",
   "metadata": {},
   "outputs": [
    {
     "name": "stdout",
     "output_type": "stream",
     "text": [
      "Training MFE Features Shape: (1055, 40, 50, 1)\n",
      "Testing MFE Features Shape: (264, 40, 50, 1)\n"
     ]
    }
   ],
   "source": [
    "# train\n",
    "train_mfe_feat = np.array(train_mfe_feat)\n",
    "train_mfe_feat= train_mfe_feat.reshape(-1, mfe_height, mfe_width, 1)\n",
    "print(f'Training MFE Features Shape: {train_mfe_feat.shape}')\n",
    "\n",
    "# test\n",
    "test_mfe_feat = np.array(test_mfe_feat)\n",
    "test_mfe_feat= test_mfe_feat.reshape(-1, mfe_height, mfe_width, 1)\n",
    "print(f'Testing MFE Features Shape: {test_mfe_feat.shape}')"
   ]
  },
  {
   "cell_type": "markdown",
   "id": "9f46b367",
   "metadata": {},
   "source": [
    "### MFCC Features"
   ]
  },
  {
   "cell_type": "code",
   "execution_count": 12,
   "id": "a1592ece",
   "metadata": {},
   "outputs": [
    {
     "name": "stdout",
     "output_type": "stream",
     "text": [
      "Training MFCC Features Shape: (1055, 13, 50, 1)\n",
      "MFCC Features Shape: (264, 13, 50, 1)\n"
     ]
    }
   ],
   "source": [
    "# train\n",
    "train_mfcc_feat = np.array(train_mfcc_feat)\n",
    "train_mfcc_feat= train_mfcc_feat.reshape(-1,mfcc_height, mfcc_width, 1)\n",
    "print(f'Training MFCC Features Shape: {train_mfcc_feat.shape}')\n",
    "\n",
    "# test\n",
    "test_mfcc_feat = np.array(test_mfcc_feat)\n",
    "test_mfcc_feat= test_mfcc_feat.reshape(-1, mfcc_height, mfcc_width, 1)\n",
    "print(f'MFCC Features Shape: {test_mfcc_feat.shape}')"
   ]
  },
  {
   "cell_type": "markdown",
   "id": "ba28b63e",
   "metadata": {},
   "source": [
    "### Labels"
   ]
  },
  {
   "cell_type": "code",
   "execution_count": 13,
   "id": "1a715984",
   "metadata": {},
   "outputs": [
    {
     "name": "stdout",
     "output_type": "stream",
     "text": [
      "Label mapping: {0: 'blue', 1: 'green', 2: 'one', 3: 'red', 4: 'three', 5: 'two'}\n"
     ]
    }
   ],
   "source": [
    "# train\n",
    "# encoding labels to numerical representations\n",
    "train_label_encoder = LabelEncoder()\n",
    "y_train = train_label_encoder.fit_transform(y_train)\n",
    "label_mapping = dict(zip(range(len(train_label_encoder.classes_)),train_label_encoder.classes_,))\n",
    "\n",
    "\n",
    "# test\n",
    "# encoding labels to numerical representations\n",
    "test_label_encoder = LabelEncoder()\n",
    "y_test = test_label_encoder.fit_transform(y_test)\n",
    "label_mapping = dict(zip(range(len(test_label_encoder.classes_)),test_label_encoder.classes_))\n",
    "\n",
    "\n",
    "print(f'Label mapping: {label_mapping}')"
   ]
  },
  {
   "cell_type": "markdown",
   "id": "95910e01",
   "metadata": {},
   "source": [
    "## ResNet8-Narrow"
   ]
  },
  {
   "cell_type": "code",
   "execution_count": 14,
   "id": "4b803037",
   "metadata": {},
   "outputs": [],
   "source": [
    "def residual_block(x, filters):\n",
    "    \"\"\"\n",
    "    Function for implementing standard ResNet architecture, residual block. This includes a 2 3x3 convolutional with \n",
    "    batch normalization and ReLu activation\n",
    "    Additionally, unlike the resnet15 (which the model deviates from), this one doesn't include a dimension adjustment.\n",
    "        Args:\n",
    "            filters(int): number of filters used for Conv2D \n",
    "        Returns:\n",
    "            tensor: processed data after Con2d, Relu and BatchNorm \n",
    "    \"\"\"\n",
    "\n",
    "    # save input for skip connection\n",
    "    shortcut = x\n",
    "\n",
    "    # 1st convolution layer\n",
    "    y = layers.Conv2D(filters, (3, 3), padding='same', use_bias=False)(x)\n",
    "    y = layers.ReLU()(y)\n",
    "    y = layers.BatchNormalization()(y)\n",
    "    \n",
    "\n",
    "    # 2nd convolution layer\n",
    "    y = layers.Conv2D(filters, (3, 3), padding='same', use_bias=False)(y)\n",
    "    y = layers.ReLU()(y)\n",
    "    y = layers.BatchNormalization()(y)\n",
    "\n",
    "    # adding skip connection\n",
    "    y = layers.add([shortcut, y])\n",
    "\n",
    "    return y\n",
    "    \n",
    "\n",
    "def build_resnet_8(input_shape, num_classes,feat_maps):\n",
    "    \"\"\"\n",
    "    Function builds the ResNet model as described in the paper.\n",
    "    \"\"\"\n",
    "    inputs = layers.Input(shape=input_shape)\n",
    "\n",
    "    # initial convolution layer\n",
    "    x = layers.Conv2D(feat_maps, (3, 3), padding='same', use_bias=False)(inputs)\n",
    "    x = layers.BatchNormalization()(x)\n",
    "    x = layers.ReLU()(x)\n",
    "\n",
    "    # 4x3 average pooling \n",
    "    x = layers.AveragePooling2D(pool_size=(4, 3))(x)\n",
    "\n",
    "    # 3 residual blocks \n",
    "    for _ in range(3):\n",
    "        x = residual_block(x, feat_maps)\n",
    "\n",
    "    # global average pooling\n",
    "    x = layers.GlobalAveragePooling2D()(x)\n",
    "\n",
    "    # fully connected softmax layer\n",
    "    outputs = layers.Dense(num_classes, activation='softmax')(x)\n",
    "\n",
    "    # initialize model\n",
    "    model = models.Model(inputs, outputs)\n",
    "\n",
    "    return model"
   ]
  },
  {
   "cell_type": "markdown",
   "id": "3bc6d270",
   "metadata": {},
   "source": [
    "### Train Model"
   ]
  },
  {
   "cell_type": "markdown",
   "id": "c366f964",
   "metadata": {},
   "source": [
    "#### MFE"
   ]
  },
  {
   "cell_type": "code",
   "execution_count": 17,
   "id": "e22fe4f9",
   "metadata": {},
   "outputs": [
    {
     "name": "stderr",
     "output_type": "stream",
     "text": [
      "2024-12-15 02:11:20.248778: E external/local_xla/xla/stream_executor/cuda/cuda_driver.cc:274] failed call to cuInit: CUDA_ERROR_NO_DEVICE: no CUDA-capable device is detected\n",
      "2024-12-15 02:11:20.248838: I external/local_xla/xla/stream_executor/cuda/cuda_diagnostics.cc:129] retrieving CUDA diagnostic information for host: dh-node13\n",
      "2024-12-15 02:11:20.248851: I external/local_xla/xla/stream_executor/cuda/cuda_diagnostics.cc:136] hostname: dh-node13\n",
      "2024-12-15 02:11:20.248943: I external/local_xla/xla/stream_executor/cuda/cuda_diagnostics.cc:159] libcuda reported version is: INVALID_ARGUMENT: expected %d.%d, %d.%d.%d, or %d.%d.%d.%d form for driver version; got \"1\"\n",
      "2024-12-15 02:11:20.248976: I external/local_xla/xla/stream_executor/cuda/cuda_diagnostics.cc:163] kernel reported version is: 555.42.2\n"
     ]
    },
    {
     "name": "stdout",
     "output_type": "stream",
     "text": [
      "Model: \"model\"\n",
      "__________________________________________________________________________________________________\n",
      " Layer (type)                Output Shape                 Param #   Connected to                  \n",
      "==================================================================================================\n",
      " input_1 (InputLayer)        [(None, 40, 50, 1)]          0         []                            \n",
      "                                                                                                  \n",
      " conv2d (Conv2D)             (None, 40, 50, 32)           288       ['input_1[0][0]']             \n",
      "                                                                                                  \n",
      " batch_normalization (Batch  (None, 40, 50, 32)           128       ['conv2d[0][0]']              \n",
      " Normalization)                                                                                   \n",
      "                                                                                                  \n",
      " re_lu (ReLU)                (None, 40, 50, 32)           0         ['batch_normalization[0][0]'] \n",
      "                                                                                                  \n",
      " average_pooling2d (Average  (None, 10, 16, 32)           0         ['re_lu[0][0]']               \n",
      " Pooling2D)                                                                                       \n",
      "                                                                                                  \n",
      " conv2d_1 (Conv2D)           (None, 10, 16, 32)           9216      ['average_pooling2d[0][0]']   \n",
      "                                                                                                  \n",
      " re_lu_1 (ReLU)              (None, 10, 16, 32)           0         ['conv2d_1[0][0]']            \n",
      "                                                                                                  \n",
      " batch_normalization_1 (Bat  (None, 10, 16, 32)           128       ['re_lu_1[0][0]']             \n",
      " chNormalization)                                                                                 \n",
      "                                                                                                  \n",
      " conv2d_2 (Conv2D)           (None, 10, 16, 32)           9216      ['batch_normalization_1[0][0]'\n",
      "                                                                    ]                             \n",
      "                                                                                                  \n",
      " re_lu_2 (ReLU)              (None, 10, 16, 32)           0         ['conv2d_2[0][0]']            \n",
      "                                                                                                  \n",
      " batch_normalization_2 (Bat  (None, 10, 16, 32)           128       ['re_lu_2[0][0]']             \n",
      " chNormalization)                                                                                 \n",
      "                                                                                                  \n",
      " add (Add)                   (None, 10, 16, 32)           0         ['average_pooling2d[0][0]',   \n",
      "                                                                     'batch_normalization_2[0][0]'\n",
      "                                                                    ]                             \n",
      "                                                                                                  \n",
      " conv2d_3 (Conv2D)           (None, 10, 16, 32)           9216      ['add[0][0]']                 \n",
      "                                                                                                  \n",
      " re_lu_3 (ReLU)              (None, 10, 16, 32)           0         ['conv2d_3[0][0]']            \n",
      "                                                                                                  \n",
      " batch_normalization_3 (Bat  (None, 10, 16, 32)           128       ['re_lu_3[0][0]']             \n",
      " chNormalization)                                                                                 \n",
      "                                                                                                  \n",
      " conv2d_4 (Conv2D)           (None, 10, 16, 32)           9216      ['batch_normalization_3[0][0]'\n",
      "                                                                    ]                             \n",
      "                                                                                                  \n",
      " re_lu_4 (ReLU)              (None, 10, 16, 32)           0         ['conv2d_4[0][0]']            \n",
      "                                                                                                  \n",
      " batch_normalization_4 (Bat  (None, 10, 16, 32)           128       ['re_lu_4[0][0]']             \n",
      " chNormalization)                                                                                 \n",
      "                                                                                                  \n",
      " add_1 (Add)                 (None, 10, 16, 32)           0         ['add[0][0]',                 \n",
      "                                                                     'batch_normalization_4[0][0]'\n",
      "                                                                    ]                             \n",
      "                                                                                                  \n",
      " conv2d_5 (Conv2D)           (None, 10, 16, 32)           9216      ['add_1[0][0]']               \n",
      "                                                                                                  \n",
      " re_lu_5 (ReLU)              (None, 10, 16, 32)           0         ['conv2d_5[0][0]']            \n",
      "                                                                                                  \n",
      " batch_normalization_5 (Bat  (None, 10, 16, 32)           128       ['re_lu_5[0][0]']             \n",
      " chNormalization)                                                                                 \n",
      "                                                                                                  \n",
      " conv2d_6 (Conv2D)           (None, 10, 16, 32)           9216      ['batch_normalization_5[0][0]'\n",
      "                                                                    ]                             \n",
      "                                                                                                  \n",
      " re_lu_6 (ReLU)              (None, 10, 16, 32)           0         ['conv2d_6[0][0]']            \n",
      "                                                                                                  \n",
      " batch_normalization_6 (Bat  (None, 10, 16, 32)           128       ['re_lu_6[0][0]']             \n",
      " chNormalization)                                                                                 \n",
      "                                                                                                  \n",
      " add_2 (Add)                 (None, 10, 16, 32)           0         ['add_1[0][0]',               \n",
      "                                                                     'batch_normalization_6[0][0]'\n",
      "                                                                    ]                             \n",
      "                                                                                                  \n",
      " global_average_pooling2d (  (None, 32)                   0         ['add_2[0][0]']               \n",
      " GlobalAveragePooling2D)                                                                          \n",
      "                                                                                                  \n",
      " dense (Dense)               (None, 6)                    198       ['global_average_pooling2d[0][\n",
      "                                                                    0]']                          \n",
      "                                                                                                  \n",
      "==================================================================================================\n",
      "Total params: 56678 (221.40 KB)\n",
      "Trainable params: 56230 (219.65 KB)\n",
      "Non-trainable params: 448 (1.75 KB)\n",
      "__________________________________________________________________________________________________\n"
     ]
    }
   ],
   "source": [
    "optimizer = tf.keras.optimizers.SGD(\n",
    "    learning_rate=0.1,\n",
    "    momentum=0.9, \n",
    "    weight_decay=1e-5\n",
    ")\n",
    "\n",
    "# learning rate scheduler\n",
    "lr_scheduler = callbacks.ReduceLROnPlateau(\n",
    "    monitor='loss',\n",
    "    factor=0.1,\n",
    "    patience=3,\n",
    "    verbose=1\n",
    ")\n",
    "\n",
    "input_shape_mfe = (mfe_height, mfe_width, 1) # (height, width, channels)\n",
    "\n",
    "# build the model\n",
    "model_mfe = build_resnet_8(input_shape_mfe, num_classes=6, feat_maps=32) # red, green, blue, one, two, three\n",
    "\n",
    "# model summary\n",
    "model_mfe.summary()\n",
    "\n",
    "# Compile the model\n",
    "model_mfe.compile(\n",
    "    optimizer=optimizer,\n",
    "    loss='sparse_categorical_crossentropy',\n",
    "    metrics=['accuracy']\n",
    ")"
   ]
  },
  {
   "cell_type": "code",
   "execution_count": 18,
   "id": "eed72171",
   "metadata": {},
   "outputs": [
    {
     "name": "stdout",
     "output_type": "stream",
     "text": [
      "Epoch 1/26\n",
      "17/17 [==============================] - 2s 26ms/step - loss: 2.0000 - accuracy: 0.2114 - lr: 0.1000\n",
      "Epoch 2/26\n",
      "17/17 [==============================] - 0s 25ms/step - loss: 1.7993 - accuracy: 0.2303 - lr: 0.1000\n",
      "Epoch 3/26\n",
      "17/17 [==============================] - 0s 25ms/step - loss: 1.6856 - accuracy: 0.2995 - lr: 0.1000\n",
      "Epoch 4/26\n",
      "17/17 [==============================] - 0s 24ms/step - loss: 1.5904 - accuracy: 0.3460 - lr: 0.1000\n",
      "Epoch 5/26\n",
      "17/17 [==============================] - 0s 24ms/step - loss: 1.5171 - accuracy: 0.3791 - lr: 0.1000\n",
      "Epoch 6/26\n",
      "17/17 [==============================] - 0s 22ms/step - loss: 1.4301 - accuracy: 0.4085 - lr: 0.1000\n",
      "Epoch 7/26\n",
      "17/17 [==============================] - 0s 22ms/step - loss: 1.3030 - accuracy: 0.4739 - lr: 0.1000\n",
      "Epoch 8/26\n",
      "17/17 [==============================] - 0s 23ms/step - loss: 1.3007 - accuracy: 0.4967 - lr: 0.1000\n",
      "Epoch 9/26\n",
      "17/17 [==============================] - 0s 23ms/step - loss: 1.1593 - accuracy: 0.5318 - lr: 0.1000\n",
      "Epoch 10/26\n",
      "17/17 [==============================] - 0s 22ms/step - loss: 1.1487 - accuracy: 0.5374 - lr: 0.1000\n",
      "Epoch 11/26\n",
      "17/17 [==============================] - 0s 22ms/step - loss: 1.0513 - accuracy: 0.5697 - lr: 0.1000\n",
      "Epoch 12/26\n",
      "17/17 [==============================] - 0s 22ms/step - loss: 0.9356 - accuracy: 0.6341 - lr: 0.1000\n",
      "Epoch 13/26\n",
      "17/17 [==============================] - 0s 23ms/step - loss: 0.8587 - accuracy: 0.6654 - lr: 0.1000\n",
      "Epoch 14/26\n",
      "17/17 [==============================] - 0s 22ms/step - loss: 0.8026 - accuracy: 0.6938 - lr: 0.1000\n",
      "Epoch 15/26\n",
      "17/17 [==============================] - 0s 22ms/step - loss: 0.7454 - accuracy: 0.6967 - lr: 0.1000\n",
      "Epoch 16/26\n",
      "17/17 [==============================] - 0s 23ms/step - loss: 0.7238 - accuracy: 0.7251 - lr: 0.1000\n",
      "Epoch 17/26\n",
      "17/17 [==============================] - 0s 22ms/step - loss: 0.6544 - accuracy: 0.7678 - lr: 0.1000\n",
      "Epoch 18/26\n",
      "17/17 [==============================] - 0s 22ms/step - loss: 0.5785 - accuracy: 0.7934 - lr: 0.1000\n",
      "Epoch 19/26\n",
      "17/17 [==============================] - 0s 22ms/step - loss: 0.5284 - accuracy: 0.7972 - lr: 0.1000\n",
      "Epoch 20/26\n",
      "17/17 [==============================] - 0s 22ms/step - loss: 0.4714 - accuracy: 0.8322 - lr: 0.1000\n",
      "Epoch 21/26\n",
      "17/17 [==============================] - 0s 22ms/step - loss: 0.5582 - accuracy: 0.7905 - lr: 0.1000\n",
      "Epoch 22/26\n",
      "17/17 [==============================] - 0s 22ms/step - loss: 0.6461 - accuracy: 0.7583 - lr: 0.1000\n",
      "Epoch 23/26\n",
      "16/17 [===========================>..] - ETA: 0s - loss: 0.5152 - accuracy: 0.8018\n",
      "Epoch 23: ReduceLROnPlateau reducing learning rate to 0.010000000149011612.\n",
      "17/17 [==============================] - 0s 22ms/step - loss: 0.5164 - accuracy: 0.8009 - lr: 0.1000\n",
      "Epoch 24/26\n",
      "17/17 [==============================] - 0s 22ms/step - loss: 0.6973 - accuracy: 0.7431 - lr: 0.0100\n",
      "Epoch 25/26\n",
      "17/17 [==============================] - 0s 22ms/step - loss: 0.4893 - accuracy: 0.8171 - lr: 0.0100\n",
      "Epoch 26/26\n",
      "17/17 [==============================] - 0s 23ms/step - loss: 0.3694 - accuracy: 0.8616 - lr: 0.0100\n"
     ]
    }
   ],
   "source": [
    "# train\n",
    "history = model_mfe.fit(\n",
    "    train_mfe_feat,    \n",
    "    y_train,\n",
    "    epochs = 26,\n",
    "    batch_size = 64,\n",
    "    callbacks = [lr_scheduler]\n",
    ")"
   ]
  },
  {
   "cell_type": "markdown",
   "id": "e0c5fa88",
   "metadata": {},
   "source": [
    "### MFCC "
   ]
  },
  {
   "cell_type": "code",
   "execution_count": 15,
   "id": "d9766c36",
   "metadata": {},
   "outputs": [
    {
     "name": "stderr",
     "output_type": "stream",
     "text": [
      "2024-12-17 10:16:03.863496: E external/local_xla/xla/stream_executor/cuda/cuda_driver.cc:274] failed call to cuInit: CUDA_ERROR_NO_DEVICE: no CUDA-capable device is detected\n",
      "2024-12-17 10:16:03.863569: I external/local_xla/xla/stream_executor/cuda/cuda_diagnostics.cc:129] retrieving CUDA diagnostic information for host: dh-node19\n",
      "2024-12-17 10:16:03.863586: I external/local_xla/xla/stream_executor/cuda/cuda_diagnostics.cc:136] hostname: dh-node19\n",
      "2024-12-17 10:16:03.863704: I external/local_xla/xla/stream_executor/cuda/cuda_diagnostics.cc:159] libcuda reported version is: INVALID_ARGUMENT: expected %d.%d, %d.%d.%d, or %d.%d.%d.%d form for driver version; got \"1\"\n",
      "2024-12-17 10:16:03.863746: I external/local_xla/xla/stream_executor/cuda/cuda_diagnostics.cc:163] kernel reported version is: 555.42.2\n"
     ]
    },
    {
     "name": "stdout",
     "output_type": "stream",
     "text": [
      "Model: \"model\"\n",
      "__________________________________________________________________________________________________\n",
      " Layer (type)                Output Shape                 Param #   Connected to                  \n",
      "==================================================================================================\n",
      " input_1 (InputLayer)        [(None, 13, 50, 1)]          0         []                            \n",
      "                                                                                                  \n",
      " conv2d (Conv2D)             (None, 13, 50, 32)           288       ['input_1[0][0]']             \n",
      "                                                                                                  \n",
      " batch_normalization (Batch  (None, 13, 50, 32)           128       ['conv2d[0][0]']              \n",
      " Normalization)                                                                                   \n",
      "                                                                                                  \n",
      " re_lu (ReLU)                (None, 13, 50, 32)           0         ['batch_normalization[0][0]'] \n",
      "                                                                                                  \n",
      " average_pooling2d (Average  (None, 3, 16, 32)            0         ['re_lu[0][0]']               \n",
      " Pooling2D)                                                                                       \n",
      "                                                                                                  \n",
      " conv2d_1 (Conv2D)           (None, 3, 16, 32)            9216      ['average_pooling2d[0][0]']   \n",
      "                                                                                                  \n",
      " re_lu_1 (ReLU)              (None, 3, 16, 32)            0         ['conv2d_1[0][0]']            \n",
      "                                                                                                  \n",
      " batch_normalization_1 (Bat  (None, 3, 16, 32)            128       ['re_lu_1[0][0]']             \n",
      " chNormalization)                                                                                 \n",
      "                                                                                                  \n",
      " conv2d_2 (Conv2D)           (None, 3, 16, 32)            9216      ['batch_normalization_1[0][0]'\n",
      "                                                                    ]                             \n",
      "                                                                                                  \n",
      " re_lu_2 (ReLU)              (None, 3, 16, 32)            0         ['conv2d_2[0][0]']            \n",
      "                                                                                                  \n",
      " batch_normalization_2 (Bat  (None, 3, 16, 32)            128       ['re_lu_2[0][0]']             \n",
      " chNormalization)                                                                                 \n",
      "                                                                                                  \n",
      " add (Add)                   (None, 3, 16, 32)            0         ['average_pooling2d[0][0]',   \n",
      "                                                                     'batch_normalization_2[0][0]'\n",
      "                                                                    ]                             \n",
      "                                                                                                  \n",
      " conv2d_3 (Conv2D)           (None, 3, 16, 32)            9216      ['add[0][0]']                 \n",
      "                                                                                                  \n",
      " re_lu_3 (ReLU)              (None, 3, 16, 32)            0         ['conv2d_3[0][0]']            \n",
      "                                                                                                  \n",
      " batch_normalization_3 (Bat  (None, 3, 16, 32)            128       ['re_lu_3[0][0]']             \n",
      " chNormalization)                                                                                 \n",
      "                                                                                                  \n",
      " conv2d_4 (Conv2D)           (None, 3, 16, 32)            9216      ['batch_normalization_3[0][0]'\n",
      "                                                                    ]                             \n",
      "                                                                                                  \n",
      " re_lu_4 (ReLU)              (None, 3, 16, 32)            0         ['conv2d_4[0][0]']            \n",
      "                                                                                                  \n",
      " batch_normalization_4 (Bat  (None, 3, 16, 32)            128       ['re_lu_4[0][0]']             \n",
      " chNormalization)                                                                                 \n",
      "                                                                                                  \n",
      " add_1 (Add)                 (None, 3, 16, 32)            0         ['add[0][0]',                 \n",
      "                                                                     'batch_normalization_4[0][0]'\n",
      "                                                                    ]                             \n",
      "                                                                                                  \n",
      " conv2d_5 (Conv2D)           (None, 3, 16, 32)            9216      ['add_1[0][0]']               \n",
      "                                                                                                  \n",
      " re_lu_5 (ReLU)              (None, 3, 16, 32)            0         ['conv2d_5[0][0]']            \n",
      "                                                                                                  \n",
      " batch_normalization_5 (Bat  (None, 3, 16, 32)            128       ['re_lu_5[0][0]']             \n",
      " chNormalization)                                                                                 \n",
      "                                                                                                  \n",
      " conv2d_6 (Conv2D)           (None, 3, 16, 32)            9216      ['batch_normalization_5[0][0]'\n",
      "                                                                    ]                             \n",
      "                                                                                                  \n",
      " re_lu_6 (ReLU)              (None, 3, 16, 32)            0         ['conv2d_6[0][0]']            \n",
      "                                                                                                  \n",
      " batch_normalization_6 (Bat  (None, 3, 16, 32)            128       ['re_lu_6[0][0]']             \n",
      " chNormalization)                                                                                 \n",
      "                                                                                                  \n",
      " add_2 (Add)                 (None, 3, 16, 32)            0         ['add_1[0][0]',               \n",
      "                                                                     'batch_normalization_6[0][0]'\n",
      "                                                                    ]                             \n",
      "                                                                                                  \n",
      " global_average_pooling2d (  (None, 32)                   0         ['add_2[0][0]']               \n",
      " GlobalAveragePooling2D)                                                                          \n",
      "                                                                                                  \n",
      " dense (Dense)               (None, 6)                    198       ['global_average_pooling2d[0][\n",
      "                                                                    0]']                          \n",
      "                                                                                                  \n",
      "==================================================================================================\n",
      "Total params: 56678 (221.40 KB)\n",
      "Trainable params: 56230 (219.65 KB)\n",
      "Non-trainable params: 448 (1.75 KB)\n",
      "__________________________________________________________________________________________________\n"
     ]
    }
   ],
   "source": [
    "optimizer = tf.keras.optimizers.SGD(\n",
    "    learning_rate=0.1, \n",
    "    momentum=0.9, \n",
    "    weight_decay=1e-5\n",
    ")\n",
    "\n",
    "# learning rate scheduler\n",
    "lr_scheduler = callbacks.ReduceLROnPlateau(\n",
    "    monitor='loss',\n",
    "    factor=0.1,\n",
    "    patience=3,\n",
    "    verbose=1\n",
    ")\n",
    "\n",
    "input_shape_mfcc = (mfcc_height, mfcc_width, 1) # (height, width, channels)\n",
    "\n",
    "# build the model\n",
    "model_mfcc = build_resnet_8(input_shape_mfcc, num_classes=6, feat_maps=32) # red, green, blue, one, two, three\n",
    "\n",
    "# model summary\n",
    "model_mfcc.summary()\n",
    "\n",
    "# compile the model\n",
    "model_mfcc.compile(\n",
    "    optimizer=optimizer,\n",
    "    loss='sparse_categorical_crossentropy',\n",
    "    metrics=['accuracy']\n",
    ")\n"
   ]
  },
  {
   "cell_type": "code",
   "execution_count": 16,
   "id": "d5d54682",
   "metadata": {},
   "outputs": [
    {
     "name": "stdout",
     "output_type": "stream",
     "text": [
      "Epoch 1/26\n",
      "17/17 [==============================] - 2s 13ms/step - loss: 1.4853 - accuracy: 0.3867 - lr: 0.1000\n",
      "Epoch 2/26\n",
      "17/17 [==============================] - 0s 12ms/step - loss: 1.0902 - accuracy: 0.5649 - lr: 0.1000\n",
      "Epoch 3/26\n",
      "17/17 [==============================] - 0s 12ms/step - loss: 0.9252 - accuracy: 0.6332 - lr: 0.1000\n",
      "Epoch 4/26\n",
      "17/17 [==============================] - 0s 12ms/step - loss: 0.7303 - accuracy: 0.7261 - lr: 0.1000\n",
      "Epoch 5/26\n",
      "17/17 [==============================] - 0s 12ms/step - loss: 0.6184 - accuracy: 0.7649 - lr: 0.1000\n",
      "Epoch 6/26\n",
      "17/17 [==============================] - 0s 12ms/step - loss: 0.5644 - accuracy: 0.7924 - lr: 0.1000\n",
      "Epoch 7/26\n",
      "17/17 [==============================] - 0s 11ms/step - loss: 0.4787 - accuracy: 0.8427 - lr: 0.1000\n",
      "Epoch 8/26\n",
      "17/17 [==============================] - 0s 11ms/step - loss: 0.4582 - accuracy: 0.8351 - lr: 0.1000\n",
      "Epoch 9/26\n",
      "17/17 [==============================] - 0s 11ms/step - loss: 0.3981 - accuracy: 0.8588 - lr: 0.1000\n",
      "Epoch 10/26\n",
      "17/17 [==============================] - 0s 11ms/step - loss: 0.3294 - accuracy: 0.8825 - lr: 0.1000\n",
      "Epoch 11/26\n",
      "17/17 [==============================] - 0s 12ms/step - loss: 0.2761 - accuracy: 0.8976 - lr: 0.1000\n",
      "Epoch 12/26\n",
      "17/17 [==============================] - 0s 11ms/step - loss: 0.2342 - accuracy: 0.9194 - lr: 0.1000\n",
      "Epoch 13/26\n",
      "17/17 [==============================] - 0s 11ms/step - loss: 0.1842 - accuracy: 0.9336 - lr: 0.1000\n",
      "Epoch 14/26\n",
      "17/17 [==============================] - 0s 12ms/step - loss: 0.2202 - accuracy: 0.9270 - lr: 0.1000\n",
      "Epoch 15/26\n",
      "17/17 [==============================] - 0s 11ms/step - loss: 0.1547 - accuracy: 0.9479 - lr: 0.1000\n",
      "Epoch 16/26\n",
      "17/17 [==============================] - 0s 12ms/step - loss: 0.1117 - accuracy: 0.9602 - lr: 0.1000\n",
      "Epoch 17/26\n",
      "17/17 [==============================] - 0s 12ms/step - loss: 0.0842 - accuracy: 0.9754 - lr: 0.1000\n",
      "Epoch 18/26\n",
      "17/17 [==============================] - 0s 11ms/step - loss: 0.0853 - accuracy: 0.9773 - lr: 0.1000\n",
      "Epoch 19/26\n",
      "17/17 [==============================] - 0s 11ms/step - loss: 0.1586 - accuracy: 0.9450 - lr: 0.1000\n",
      "Epoch 20/26\n",
      "16/17 [===========================>..] - ETA: 0s - loss: 0.2746 - accuracy: 0.9072\n",
      "Epoch 20: ReduceLROnPlateau reducing learning rate to 0.010000000149011612.\n",
      "17/17 [==============================] - 0s 11ms/step - loss: 0.2741 - accuracy: 0.9071 - lr: 0.1000\n",
      "Epoch 21/26\n",
      "17/17 [==============================] - 0s 12ms/step - loss: 0.4081 - accuracy: 0.8626 - lr: 0.0100\n",
      "Epoch 22/26\n",
      "17/17 [==============================] - 0s 11ms/step - loss: 0.1838 - accuracy: 0.9336 - lr: 0.0100\n",
      "Epoch 23/26\n",
      "17/17 [==============================] - 0s 11ms/step - loss: 0.0743 - accuracy: 0.9858 - lr: 0.0100\n",
      "Epoch 24/26\n",
      "17/17 [==============================] - 0s 11ms/step - loss: 0.0607 - accuracy: 0.9858 - lr: 0.0100\n",
      "Epoch 25/26\n",
      "17/17 [==============================] - 0s 12ms/step - loss: 0.0394 - accuracy: 0.9972 - lr: 0.0100\n",
      "Epoch 26/26\n",
      "17/17 [==============================] - 0s 11ms/step - loss: 0.0254 - accuracy: 0.9991 - lr: 0.0100\n"
     ]
    }
   ],
   "source": [
    "# train\n",
    "history = model_mfcc.fit(\n",
    "    train_mfcc_feat,    \n",
    "    y_train,\n",
    "    epochs = 26,\n",
    "    batch_size = 64,\n",
    "    callbacks = [lr_scheduler]\n",
    ")"
   ]
  },
  {
   "cell_type": "markdown",
   "id": "92adf458",
   "metadata": {},
   "source": [
    "### Analysis\n",
    "\n",
    "ResNet outputs probabilities of how likely a a sample is of the 6 classes. The final layer is a dense (or fully connected) layer with a softmax activation. \n",
    "To get the label and compare to true labels will take the argmax (whichever class of each sample had the highest probabilty). "
   ]
  },
  {
   "cell_type": "code",
   "execution_count": null,
   "id": "2f146564",
   "metadata": {},
   "outputs": [],
   "source": [
    "# MFE\n",
    "y_pred_mfe_probs = model_mfe.predict(test_mfe_feat, batch_size=64)\n",
    "y_pred_mfe = np.argmax(y_pred_mfe_probs, axis=1)\n",
    "\n",
    "accur_mfe = accuracy_score(y_test, y_pred_mfe)\n",
    "weighted_accur_mfe = balanced_accuracy_score(y_test, y_pred_mfe)\n",
    "print(f'MFE Feature Accuracy: {accur_mfe * 100:.2f}%')\n",
    "print(f'MFE Feature Weighted Accuracy: {weighted_accur_mfe * 100:.2f}%')\n",
    "\n",
    "\n",
    "# MFCC\n",
    "y_pred_mfcc_probs = model_mfcc.predict(test_mfcc_feat, batch_size=64)\n",
    "y_pred_mfcc = np.argmax(y_pred_mfcc_probs, axis=1)\n",
    "\n",
    "accur_mfcc = accuracy_score(y_test, y_pred_mfcc)\n",
    "weighted_accur_mfcc = balanced_accuracy_score(y_test, y_pred_mfcc)\n",
    "print(f'MFCC Feature Accuracy: {accur_mfcc * 100:.2f}%')\n",
    "print(f'MFCC Feature Weighted Accuracy: {weighted_accur_mfcc * 100:.2f}%')\n"
   ]
  },
  {
   "cell_type": "markdown",
   "id": "50fb247c",
   "metadata": {},
   "source": [
    "## Quantization & Save"
   ]
  },
  {
   "cell_type": "markdown",
   "id": "3b2bc4ea",
   "metadata": {},
   "source": [
    "#### MFE"
   ]
  },
  {
   "cell_type": "code",
   "execution_count": null,
   "id": "34286dbd",
   "metadata": {
    "scrolled": true
   },
   "outputs": [],
   "source": [
    "# converting to TensorFlow Lite with quantization\n",
    "converter = tf.lite.TFLiteConverter.from_keras_model(model_mfe)\n",
    "converter.optimizations = [tf.lite.Optimize.DEFAULT]  # enabling default optimizations\n",
    "tflite_model = converter.convert()\n",
    "\n",
    "# saving model\n",
    "model_path_mfe = f'{save_model_path}/resnet8_mfe_nmel_{n_mel}_rand_{random_state}_32_feat.tflite'\n",
    "with open(model_path_mfe, \"wb\") as f:\n",
    "    f.write(tflite_model)  # `tflite_model` is the quantized model from earlier steps\n",
    "\n",
    "# obtain model size\n",
    "model_size_bytes = os.path.getsize(model_path_mfe)\n",
    "model_size_kb = model_size_bytes / 1024  # Convert bytes to KB\n",
    "print(f\"Model size: {model_size_kb:.2f} KB\")"
   ]
  },
  {
   "cell_type": "markdown",
   "id": "8a2bd59c",
   "metadata": {},
   "source": [
    "#### MFCC"
   ]
  },
  {
   "cell_type": "code",
   "execution_count": 18,
   "id": "38829322",
   "metadata": {},
   "outputs": [
    {
     "name": "stdout",
     "output_type": "stream",
     "text": [
      "Model size: 68.05 KB\n"
     ]
    },
    {
     "name": "stderr",
     "output_type": "stream",
     "text": [
      "2024-12-17 10:16:22.576042: W tensorflow/compiler/mlir/lite/python/tf_tfl_flatbuffer_helpers.cc:378] Ignored output_format.\n",
      "2024-12-17 10:16:22.576079: W tensorflow/compiler/mlir/lite/python/tf_tfl_flatbuffer_helpers.cc:381] Ignored drop_control_dependency.\n",
      "2024-12-17 10:16:22.576413: I tensorflow/cc/saved_model/reader.cc:83] Reading SavedModel from: /tmp/tmps68cho1r\n",
      "2024-12-17 10:16:22.579662: I tensorflow/cc/saved_model/reader.cc:51] Reading meta graph with tags { serve }\n",
      "2024-12-17 10:16:22.579683: I tensorflow/cc/saved_model/reader.cc:146] Reading SavedModel debug info (if present) from: /tmp/tmps68cho1r\n",
      "2024-12-17 10:16:22.585722: I tensorflow/compiler/mlir/mlir_graph_optimization_pass.cc:388] MLIR V1 optimization pass is not enabled\n",
      "2024-12-17 10:16:22.588305: I tensorflow/cc/saved_model/loader.cc:235] Restoring SavedModel bundle.\n",
      "2024-12-17 10:16:22.687303: I tensorflow/cc/saved_model/loader.cc:219] Running initialization op on SavedModel bundle at path: /tmp/tmps68cho1r\n",
      "2024-12-17 10:16:22.714871: I tensorflow/cc/saved_model/loader.cc:336] SavedModel load for tags { serve }; Status: success: OK. Took 138459 microseconds.\n",
      "2024-12-17 10:16:22.784971: I tensorflow/compiler/mlir/tensorflow/utils/dump_mlir_util.cc:269] disabling MLIR crash reproducer, set env var `MLIR_CRASH_REPRODUCER_DIRECTORY` to enable.\n",
      "Summary on the non-converted ops:\n",
      "---------------------------------\n",
      " * Accepted dialects: tfl, builtin, func\n",
      " * Non-Converted Ops: 18, Total Ops 53, % non-converted = 33.96 %\n",
      " * 18 ARITH ops\n",
      "\n",
      "- arith.constant:   18 occurrences  (f32: 17, i32: 1)\n",
      "\n",
      "\n",
      "\n",
      "  (f32: 9)\n",
      "  (f32: 1)\n",
      "  (f32: 7)\n",
      "  (f32: 1)\n",
      "  (f32: 1)\n",
      "  (f32: 6)\n",
      "  (uq_8: 6)\n",
      "  (f32: 1)\n"
     ]
    }
   ],
   "source": [
    "# converting to TensorFlow Lite with quantization\n",
    "converter = tf.lite.TFLiteConverter.from_keras_model(model_mfcc)\n",
    "converter.optimizations = [tf.lite.Optimize.DEFAULT]  # enabling default optimizations\n",
    "tflite_model = converter.convert()\n",
    "\n",
    "# saving model\n",
    "model_path_mfcc = f'{save_model_path}/resnet8_mfcc_nmel_{n_mel}_rand_{random_state}_32_feat.tflite'\n",
    "with open(model_path_mfcc, \"wb\") as f:\n",
    "    f.write(tflite_model)  # `tflite_model` is the quantized model from earlier steps\n",
    "\n",
    "# obtain model size\n",
    "model_size_bytes = os.path.getsize(model_path_mfcc)\n",
    "model_size_kb = model_size_bytes / 1024  # Convert bytes to KB\n",
    "print(f\"Model size: {model_size_kb:.2f} KB\")"
   ]
  },
  {
   "cell_type": "markdown",
   "id": "3f63111b",
   "metadata": {},
   "source": [
    "## Analysis \n",
    "\n",
    "See how much accuracy has changed after quantization"
   ]
  },
  {
   "cell_type": "markdown",
   "id": "70fafe06",
   "metadata": {},
   "source": [
    "### Final MFE Accuracy"
   ]
  },
  {
   "cell_type": "code",
   "execution_count": null,
   "id": "445b2ce1",
   "metadata": {},
   "outputs": [],
   "source": [
    "accuarcy_after_quan(model_path_mfe, test_mfe_feat, y_test, 'mfe')"
   ]
  },
  {
   "cell_type": "markdown",
   "id": "be34d3d6",
   "metadata": {},
   "source": [
    "### Final MFCC Accuracy"
   ]
  },
  {
   "cell_type": "code",
   "execution_count": null,
   "id": "519344eb",
   "metadata": {},
   "outputs": [],
   "source": [
    "accuarcy_after_quan(model_path_mfcc, test_mfcc_feat, y_test, 'mfcc')"
   ]
  },
  {
   "cell_type": "markdown",
   "id": "10f212f4",
   "metadata": {},
   "source": [
    "### MFE ROC"
   ]
  },
  {
   "cell_type": "code",
   "execution_count": null,
   "id": "0fba86e3",
   "metadata": {},
   "outputs": [],
   "source": [
    "compute_multiclass_metrics(y_test, y_pred_mfe_probs, label_mapping)"
   ]
  },
  {
   "cell_type": "markdown",
   "id": "0b01612a",
   "metadata": {},
   "source": [
    "### MFCC ROC"
   ]
  },
  {
   "cell_type": "code",
   "execution_count": null,
   "id": "90753f4c",
   "metadata": {},
   "outputs": [],
   "source": [
    "compute_multiclass_metrics(y_test, y_pred_mfcc_probs, label_mapping)"
   ]
  },
  {
   "cell_type": "markdown",
   "id": "b1b214cc",
   "metadata": {},
   "source": [
    "## Confusion Matrix"
   ]
  },
  {
   "cell_type": "code",
   "execution_count": null,
   "id": "d2293cd0",
   "metadata": {},
   "outputs": [],
   "source": [
    "%matplotlib inline\n",
    "from sklearn.metrics import confusion_matrix, ConfusionMatrixDisplay\n",
    "import matplotlib.pyplot as plt\n",
    "\n",
    "conf_matrix = confusion_matrix(y_test, y_pred_mfcc)\n",
    "\n",
    "# displaying confusion matrix as a heatmap\n",
    "disp = ConfusionMatrixDisplay(confusion_matrix=conf_matrix,display_labels=label_mapping.values())\n",
    "disp.plot(cmap='Blues')\n",
    "plt.title(\"Random Forest: Confusion Matrix\")\n",
    "plt.xticks(rotation=45)\n",
    "plt.show()"
   ]
  },
  {
   "cell_type": "markdown",
   "id": "4f55e860",
   "metadata": {},
   "source": [
    "## Visualize Model Archiecture"
   ]
  },
  {
   "cell_type": "code",
   "execution_count": 55,
   "id": "88923d7b",
   "metadata": {},
   "outputs": [
    {
     "data": {
      "image/png": "[encoded data removed]",
      "text/plain": [
       "<PIL.Image.Image image mode=RGBA size=1393x300 at 0x7FAA0A784DF0>"
      ]
     },
     "metadata": {},
     "output_type": "display_data"
    }
   ],
   "source": [
    "def text_callable(layer_index, layer):\n",
    "    # Every other piece of text is drawn above the layer, the first one below\n",
    "    above = bool(layer_index%2)\n",
    "\n",
    "    # Get the output shape of the layer\n",
    "    output_shape = [x for x in list(layer.output_shape) if x is not None]\n",
    "\n",
    "    # If the output shape is a list of tuples, we only take the first one\n",
    "    if isinstance(output_shape[0], tuple):\n",
    "        output_shape = list(output_shape[0])\n",
    "        output_shape = [x for x in output_shape if x is not None]\n",
    "\n",
    "    # Variable to store text which will be drawn    \n",
    "    output_shape_txt = \"\"\n",
    "\n",
    "    # Create a string representation of the output shape\n",
    "    for ii in range(len(output_shape)):\n",
    "        output_shape_txt += str(output_shape[ii])\n",
    "        if ii < len(output_shape) - 2: # Add an x between dimensions, e.g. 3x3\n",
    "            output_shape_txt += \"x\"\n",
    "        if ii == len(output_shape) - 2: # Add a newline between the last two dimensions, e.g. 3x3 \\n 64\n",
    "            output_shape_txt += \"\\n\"\n",
    "\n",
    "    # Add the name of the layer to the text, as a new line\n",
    "    output_shape_txt += f\"\\n{layer.name}\"\n",
    "\n",
    "    # Return the text value and if it should be drawn above the layer\n",
    "    return output_shape_txt, above\n",
    "\n",
    "visualkeras.layered_view(\n",
    "    model_mfcc,\n",
    "    text_callable=text_callable, spacing=30,\n",
    "    padding=5).show()"
   ]
  },
  {
   "cell_type": "markdown",
   "id": "7bf71820",
   "metadata": {},
   "source": [
    "## References"
   ]
  },
  {
   "cell_type": "markdown",
   "id": "6fa8d695",
   "metadata": {},
   "source": [
    "[1] Tang, Raphael, and Jimmy Lin. “Deep residual learning for small-footprint keyword spotting.” 2018 IEEE International Conference on Acoustics, Speech and Signal Processing (ICASSP), 21 Sept. 2018, https://doi.org/10.1109/icassp.2018.8462688. \n",
    "\n",
    "[2] Jongboom, Jan, et al. “Edgeimpulse/Processing-Blocks: Signal Processing Blocks.” GitHub, Edge Impulse, 3 Mar. 2022, github.com/edgeimpulse/processing-blocks. \n",
    "\n",
    "[3] https://scikit-learn.org/stable/auto_examples/model_selection/plot_roc.html#one-vs-rest-multiclass-roc\n",
    "\n",
    "[4] https://github.com/paulgavrikov/visualkeras/tree/master"
   ]
  }
 ],
 "metadata": {
  "kernelspec": {
   "display_name": "Python 3 (ipykernel)",
   "language": "python",
   "name": "python3"
  },
  "language_info": {
   "codemirror_mode": {
    "name": "ipython",
    "version": 3
   },
   "file_extension": ".py",
   "mimetype": "text/x-python",
   "name": "python",
   "nbconvert_exporter": "python",
   "pygments_lexer": "ipython3",
   "version": "3.10.12"
  }
 },
 "nbformat": 4,
 "nbformat_minor": 5
}
